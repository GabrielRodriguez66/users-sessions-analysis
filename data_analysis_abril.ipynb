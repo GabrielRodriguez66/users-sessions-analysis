{
 "cells": [
  {
   "cell_type": "markdown",
   "metadata": {},
   "source": [
    "# REN Data Analysis: User sessions and documents submitted"
   ]
  },
  {
   "cell_type": "code",
   "execution_count": 1,
   "metadata": {},
   "outputs": [],
   "source": [
    "import pandas as pd\n",
    "import numpy as np\n",
    "import matplotlib.pyplot as plt"
   ]
  },
  {
   "cell_type": "markdown",
   "metadata": {},
   "source": [
    "#### Read csv and parse dates columns to datetime objects"
   ]
  },
  {
   "cell_type": "code",
   "execution_count": 2,
   "metadata": {},
   "outputs": [],
   "source": [
    "df = pd.read_csv('REN Documentos 201704.csv', encoding='utf-8')\n",
    "df['Date'] = pd.to_datetime(df['Date'], format='%m/%d/%Y %H:%M')\n",
    "df['Timestamp'] = pd.to_datetime(df['Timestamp'], format='%m/%d/%Y %H:%M')"
   ]
  },
  {
   "cell_type": "code",
   "execution_count": 3,
   "metadata": {},
   "outputs": [
    {
     "name": "stdout",
     "output_type": "stream",
     "text": [
      "(68563, 5)\n",
      "DocumentID                 int64\n",
      "Timestamp         datetime64[ns]\n",
      "Username                  object\n",
      "Classification            object\n",
      "Date              datetime64[ns]\n",
      "dtype: object\n"
     ]
    }
   ],
   "source": [
    "print(df.shape)\n",
    "print(df.dtypes)"
   ]
  },
  {
   "cell_type": "markdown",
   "metadata": {},
   "source": [
    "#### Get usernames and analyze data per user"
   ]
  },
  {
   "cell_type": "code",
   "execution_count": 4,
   "metadata": {},
   "outputs": [
    {
     "name": "stdout",
     "output_type": "stream",
     "text": [
      "Num of users:  3459\n"
     ]
    }
   ],
   "source": [
    "usernames = df['Username'].unique().tolist()\n",
    "USER_SESSION_TTL = 30\n",
    "\n",
    "print('Num of users: ', len(usernames))"
   ]
  },
  {
   "cell_type": "code",
   "execution_count": 5,
   "metadata": {},
   "outputs": [],
   "source": [
    "user_sessions = {}\n",
    "all_docs_per_session = []\n",
    "all_users_sessions_length = []\n",
    "\n",
    "for user in usernames:        \n",
    "    user_data = df[df['Username'] == user].sort_values(by=['Timestamp']) \n",
    "    session_buckets = []\n",
    "    prev_timestamp = None\n",
    "\n",
    "    for index, doc in user_data.iterrows():\n",
    "        if prev_timestamp is None:\n",
    "            prev_timestamp = doc['Timestamp']\n",
    "            session_buckets.append([doc])\n",
    "        else:\n",
    "            difference = doc['Timestamp'] - prev_timestamp\n",
    "            difference_in_min = int(divmod(difference.total_seconds(), 60)[0])\n",
    "\n",
    "            if difference_in_min > USER_SESSION_TTL:\n",
    "                # Add new session bucket\n",
    "                session_buckets.append([doc])\n",
    "            else:\n",
    "                # Add doc to the last session bucket\n",
    "                session_buckets[-1].append(doc)\n",
    "\n",
    "            prev_timestamp = doc['Timestamp']\n",
    "    \n",
    "    user_docs_per_session = []\n",
    "    user_sessions_length = []\n",
    "    for session in session_buckets:\n",
    "        user_docs_per_session.append(len(session))\n",
    "        \n",
    "        # Calculate session_length_in_min only if more than one document was submitted\n",
    "        if len(session) > 1:\n",
    "            first_doc, last_doc = session[0], session[-1]\n",
    "            difference = last_doc['Timestamp'] - first_doc['Timestamp']\n",
    "            session_length_in_min = int(divmod(difference.total_seconds(), 60)[0])\n",
    "\n",
    "            user_sessions_length.append(session_length_in_min)\n",
    " \n",
    "    all_docs_per_session += user_docs_per_session\n",
    "    all_users_sessions_length += user_sessions_length"
   ]
  },
  {
   "cell_type": "markdown",
   "metadata": {},
   "source": [
    "## Visualization and data analysis"
   ]
  },
  {
   "cell_type": "markdown",
   "metadata": {},
   "source": [
    "### Analysis of docs submitted per session"
   ]
  },
  {
   "cell_type": "code",
   "execution_count": 6,
   "metadata": {},
   "outputs": [
    {
     "data": {
      "text/plain": [
       "count    6012.000000\n",
       "mean       11.404358\n",
       "std        36.026857\n",
       "min         1.000000\n",
       "25%         2.000000\n",
       "50%         5.000000\n",
       "75%        12.000000\n",
       "max      1643.000000\n",
       "dtype: float64"
      ]
     },
     "execution_count": 6,
     "metadata": {},
     "output_type": "execute_result"
    }
   ],
   "source": [
    "series = pd.Series(all_docs_per_session)\n",
    "series.describe()"
   ]
  },
  {
   "cell_type": "markdown",
   "metadata": {},
   "source": [
    "- There is a total of 6012 sessions\n",
    "- With a mean of 11.4 documents submitted per session\n",
    "- We can tell something is wrong in the data, the max number does not make sense"
   ]
  },
  {
   "cell_type": "code",
   "execution_count": 7,
   "metadata": {},
   "outputs": [
    {
     "data": {
      "text/plain": [
       "array([ 5., 38., 85.])"
      ]
     },
     "execution_count": 7,
     "metadata": {},
     "output_type": "execute_result"
    }
   ],
   "source": [
    "np.percentile(all_docs_per_session, [50, 95, 99])"
   ]
  },
  {
   "cell_type": "markdown",
   "metadata": {},
   "source": [
    "The 99 percentile tell us that 99% of the values are less than 85, therefore the max value of 1643 is an outlier"
   ]
  },
  {
   "cell_type": "code",
   "execution_count": 8,
   "metadata": {},
   "outputs": [
    {
     "data": {
      "image/png": "[encoded data removed]",
      "text/plain": [
       "<Figure size 432x288 with 1 Axes>"
      ]
     },
     "metadata": {
      "needs_background": "light"
     },
     "output_type": "display_data"
    }
   ],
   "source": [
    "fig, ax = plt.subplots()\n",
    "ax.boxplot((all_docs_per_session, ), vert=False,showmeans=True, meanline=True,\n",
    "           labels=('Docs submitted per session', ), patch_artist=True,\n",
    "           medianprops={'linewidth': 2, 'color': 'purple'},\n",
    "           meanprops={'linewidth': 2, 'color': 'red'})\n",
    "plt.show()"
   ]
  },
  {
   "cell_type": "markdown",
   "metadata": {},
   "source": [
    "With the box plot we can observe the outliers in the data"
   ]
  },
  {
   "cell_type": "markdown",
   "metadata": {},
   "source": [
    "#### Filtering data to remove outliers"
   ]
  },
  {
   "cell_type": "code",
   "execution_count": 9,
   "metadata": {},
   "outputs": [
    {
     "data": {
      "text/plain": [
       "array([ 5., 12., 35., 62.])"
      ]
     },
     "execution_count": 9,
     "metadata": {},
     "output_type": "execute_result"
    }
   ],
   "source": [
    "# Filtering values less or equal than the 99 percentile\n",
    "filtered_data = list(filter(lambda x: x<=85, all_docs_per_session))\n",
    "np.percentile(filtered_data, [50, 75, 95, 99])"
   ]
  },
  {
   "cell_type": "code",
   "execution_count": 10,
   "metadata": {},
   "outputs": [
    {
     "data": {
      "text/plain": [
       "count    5953.000000\n",
       "mean        9.398287\n",
       "std        12.336829\n",
       "min         1.000000\n",
       "25%         2.000000\n",
       "50%         5.000000\n",
       "75%        12.000000\n",
       "max        85.000000\n",
       "dtype: float64"
      ]
     },
     "execution_count": 10,
     "metadata": {},
     "output_type": "execute_result"
    }
   ],
   "source": [
    "series = pd.Series(filtered_data)\n",
    "series.describe()"
   ]
  },
  {
   "cell_type": "markdown",
   "metadata": {},
   "source": [
    "- After filtering there is a total of 5953 sessions\n",
    "- With a mean of 9.4 documents submitted per session\n",
    "- Now the max number is of 85 docs per session"
   ]
  },
  {
   "cell_type": "code",
   "execution_count": 11,
   "metadata": {},
   "outputs": [
    {
     "data": {
      "image/png": "[encoded data removed]",
      "text/plain": [
       "<Figure size 432x288 with 1 Axes>"
      ]
     },
     "metadata": {
      "needs_background": "light"
     },
     "output_type": "display_data"
    }
   ],
   "source": [
    "fig, ax = plt.subplots()\n",
    "ax.boxplot((filtered_data, ), vert=False, showmeans=True, meanline=True,\n",
    "           labels=('Num docs submitted per session', ), patch_artist=True,\n",
    "           medianprops={'linewidth': 2, 'color': 'purple'},\n",
    "           meanprops={'linewidth': 2, 'color': 'red'})\n",
    "plt.show()"
   ]
  },
  {
   "cell_type": "markdown",
   "metadata": {},
   "source": [
    "- The mean is the red dashed line.\n",
    "The median is the purple line.\n",
    "The first quartile is the left edge of the blue rectangle.\n",
    "The third quartile is the right edge of the blue rectangle.\n",
    "The outliers are the dots to the right.\n",
    "\n",
    "- We can still see outliers in the box plot, but we are not filtering it, in order to see the frequency distribution in the histogram"
   ]
  },
  {
   "cell_type": "code",
   "execution_count": 12,
   "metadata": {},
   "outputs": [
    {
     "data": {
      "image/png": "[encoded data removed]",
      "text/plain": [
       "<Figure size 432x288 with 1 Axes>"
      ]
     },
     "metadata": {
      "needs_background": "light"
     },
     "output_type": "display_data"
    },
    {
     "name": "stdout",
     "output_type": "stream",
     "text": [
      "[ 1.    1.84  2.68  3.52  4.36  5.2   6.04  6.88  7.72  8.56  9.4  10.24\n",
      " 11.08 11.92 12.76 13.6  14.44 15.28 16.12 16.96 17.8  18.64 19.48 20.32\n",
      " 21.16 22.   22.84 23.68 24.52 25.36 26.2  27.04 27.88 28.72 29.56 30.4\n",
      " 31.24 32.08 32.92 33.76 34.6  35.44 36.28 37.12 37.96 38.8  39.64 40.48\n",
      " 41.32 42.16 43.   43.84 44.68 45.52 46.36 47.2  48.04 48.88 49.72 50.56\n",
      " 51.4  52.24 53.08 53.92 54.76 55.6  56.44 57.28 58.12 58.96 59.8  60.64\n",
      " 61.48 62.32 63.16 64.   64.84 65.68 66.52 67.36 68.2  69.04 69.88 70.72\n",
      " 71.56 72.4  73.24 74.08 74.92 75.76 76.6  77.44 78.28 79.12 79.96 80.8\n",
      " 81.64 82.48 83.32 84.16 85.  ]\n"
     ]
    }
   ],
   "source": [
    "hist, bin_edges = np.histogram(filtered_data, bins=100)\n",
    "\n",
    "fig, ax = plt.subplots()\n",
    "ax.hist(filtered_data, bin_edges, cumulative=False)\n",
    "ax.set_xlabel('Num docs submitted per session')\n",
    "ax.set_ylabel('Frequency')\n",
    "\n",
    "plt.show()\n",
    "\n",
    "print(bin_edges)"
   ]
  },
  {
   "cell_type": "markdown",
   "metadata": {},
   "source": [
    "### Analysis and visualization of sessions duration"
   ]
  },
  {
   "cell_type": "code",
   "execution_count": 13,
   "metadata": {},
   "outputs": [
    {
     "data": {
      "text/plain": [
       "array([ 17.  ,  37.  ,  94.  , 157.96])"
      ]
     },
     "execution_count": 13,
     "metadata": {},
     "output_type": "execute_result"
    }
   ],
   "source": [
    "np.percentile(all_users_sessions_length, [50, 75, 95, 99])"
   ]
  },
  {
   "cell_type": "code",
   "execution_count": 14,
   "metadata": {},
   "outputs": [
    {
     "data": {
      "text/plain": [
       "count    4805.000000\n",
       "mean       28.206035\n",
       "std        33.412910\n",
       "min         0.000000\n",
       "25%         6.000000\n",
       "50%        17.000000\n",
       "75%        37.000000\n",
       "max       411.000000\n",
       "dtype: float64"
      ]
     },
     "execution_count": 14,
     "metadata": {},
     "output_type": "execute_result"
    }
   ],
   "source": [
    "series = pd.Series(all_users_sessions_length)\n",
    "series.describe()"
   ]
  },
  {
   "cell_type": "markdown",
   "metadata": {},
   "source": [
    "The mean of a user session length is of 28.20 minutes"
   ]
  },
  {
   "cell_type": "code",
   "execution_count": 15,
   "metadata": {},
   "outputs": [
    {
     "data": {
      "image/png": "[encoded data removed]",
      "text/plain": [
       "<Figure size 432x288 with 1 Axes>"
      ]
     },
     "metadata": {
      "needs_background": "light"
     },
     "output_type": "display_data"
    }
   ],
   "source": [
    "fig, ax = plt.subplots()\n",
    "ax.boxplot((all_users_sessions_length, ), vert=False, showmeans=True, meanline=True,\n",
    "           labels=('User session length in min', ), patch_artist=True,\n",
    "           medianprops={'linewidth': 2, 'color': 'purple'},\n",
    "           meanprops={'linewidth': 2, 'color': 'red'})\n",
    "plt.show()"
   ]
  },
  {
   "cell_type": "code",
   "execution_count": 16,
   "metadata": {},
   "outputs": [
    {
     "data": {
      "image/png": "[encoded data removed]",
      "text/plain": [
       "<Figure size 432x288 with 1 Axes>"
      ]
     },
     "metadata": {
      "needs_background": "light"
     },
     "output_type": "display_data"
    },
    {
     "name": "stdout",
     "output_type": "stream",
     "text": [
      "[  0.     4.11   8.22  12.33  16.44  20.55  24.66  28.77  32.88  36.99\n",
      "  41.1   45.21  49.32  53.43  57.54  61.65  65.76  69.87  73.98  78.09\n",
      "  82.2   86.31  90.42  94.53  98.64 102.75 106.86 110.97 115.08 119.19\n",
      " 123.3  127.41 131.52 135.63 139.74 143.85 147.96 152.07 156.18 160.29\n",
      " 164.4  168.51 172.62 176.73 180.84 184.95 189.06 193.17 197.28 201.39\n",
      " 205.5  209.61 213.72 217.83 221.94 226.05 230.16 234.27 238.38 242.49\n",
      " 246.6  250.71 254.82 258.93 263.04 267.15 271.26 275.37 279.48 283.59\n",
      " 287.7  291.81 295.92 300.03 304.14 308.25 312.36 316.47 320.58 324.69\n",
      " 328.8  332.91 337.02 341.13 345.24 349.35 353.46 357.57 361.68 365.79\n",
      " 369.9  374.01 378.12 382.23 386.34 390.45 394.56 398.67 402.78 406.89\n",
      " 411.  ]\n"
     ]
    }
   ],
   "source": [
    "hist, bin_edges = np.histogram(all_users_sessions_length, bins=100)\n",
    "\n",
    "fig, ax = plt.subplots()\n",
    "ax.hist(all_users_sessions_length, bin_edges, cumulative=False)\n",
    "ax.set_xlabel('User session length in min')\n",
    "ax.set_ylabel('Frequency')\n",
    "\n",
    "plt.show()\n",
    "\n",
    "print(bin_edges)"
   ]
  },
  {
   "cell_type": "code",
   "execution_count": null,
   "metadata": {},
   "outputs": [],
   "source": []
  }
 ],
 "metadata": {
  "kernelspec": {
   "display_name": "Python 3",
   "language": "python",
   "name": "python3"
  },
  "language_info": {
   "codemirror_mode": {
    "name": "ipython",
    "version": 3
   },
   "file_extension": ".py",
   "mimetype": "text/x-python",
   "name": "python",
   "nbconvert_exporter": "python",
   "pygments_lexer": "ipython3",
   "version": "3.6.8"
  }
 },
 "nbformat": 4,
 "nbformat_minor": 4
}
