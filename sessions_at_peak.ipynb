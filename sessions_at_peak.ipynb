{
 "cells": [
  {
   "cell_type": "markdown",
   "metadata": {},
   "source": [
    "#  Analysis of concurrent user sessions "
   ]
  },
  {
   "cell_type": "markdown",
   "metadata": {},
   "source": [
    "The goal of this notebook is to identify the maximum number of concurrent users, and see the trend during a day"
   ]
  },
  {
   "cell_type": "code",
   "execution_count": 1,
   "metadata": {},
   "outputs": [],
   "source": [
    "import pandas as pd\n",
    "import numpy as np\n",
    "import matplotlib.pyplot as plt\n",
    "import datetime"
   ]
  },
  {
   "cell_type": "markdown",
   "metadata": {},
   "source": [
    "#### Read csv and parse dates columns to datetime objects"
   ]
  },
  {
   "cell_type": "code",
   "execution_count": 2,
   "metadata": {},
   "outputs": [],
   "source": [
    "df = pd.read_csv('Documentos 201704.csv', encoding='utf-8')\n",
    "df['Date'] = pd.to_datetime(df['Date'], format='%m/%d/%Y %H:%M')\n",
    "df['Timestamp'] = pd.to_datetime(df['Timestamp'], format='%m/%d/%Y %H:%M')\n",
    "\n",
    "# Filtering data of April/10 ... 7 am - 4 pm\n",
    "df = df[(df['Timestamp'] >= '2017-04-10 07:00:00') & (df['Timestamp'] <= '2017-04-10 16:00:00')].sort_values(by=['Timestamp'])"
   ]
  },
  {
   "cell_type": "markdown",
   "metadata": {},
   "source": [
    "##### Generating time intervals of 1 min from 7 am - 4 pm"
   ]
  },
  {
   "cell_type": "code",
   "execution_count": 3,
   "metadata": {},
   "outputs": [],
   "source": [
    "interval_length = 1\n",
    "times = [datetime.datetime(2017, 4, 10, 7, 0, 0) + datetime.timedelta(minutes=interval_length*x) for x in range(9 * 60//interval_length + 1)]\n",
    "times[0] = datetime.datetime(2017, 4, 10, 6, 59, 0)\n",
    "\n",
    "time_intervals = []\n",
    "for i in range(len(times) - 1):\n",
    "    start, end = times[i], times[i+1]\n",
    "    time_intervals.append({'start': start, 'end': end})\n"
   ]
  },
  {
   "cell_type": "code",
   "execution_count": 4,
   "metadata": {},
   "outputs": [
    {
     "name": "stdout",
     "output_type": "stream",
     "text": [
      "Num of users:  786\n"
     ]
    }
   ],
   "source": [
    "usernames = df['Username'].unique().tolist()\n",
    "USER_SESSION_TTL = 30\n",
    "\n",
    "print('Num of users: ', len(usernames))"
   ]
  },
  {
   "cell_type": "markdown",
   "metadata": {},
   "source": [
    "#### Script to generate session buckets and calculate num of sessions by time interval"
   ]
  },
  {
   "cell_type": "code",
   "execution_count": 5,
   "metadata": {},
   "outputs": [],
   "source": [
    "intervals_session_count_list = [0 for i in range(len(times) - 1)]\n",
    "session_buckets = []\n",
    "\n",
    "for user in usernames:        \n",
    "    user_data = df[df['Username'] == user].sort_values(by=['Timestamp']) \n",
    "    prev_timestamp = None\n",
    "\n",
    "    for index, doc in user_data.iterrows():\n",
    "        if prev_timestamp is None:\n",
    "            prev_timestamp = doc['Timestamp']\n",
    "            session_buckets.append([doc])\n",
    "        else:\n",
    "            difference = doc['Timestamp'] - prev_timestamp\n",
    "            difference_in_min = int(divmod(difference.total_seconds(), 60)[0])\n",
    "\n",
    "            if difference_in_min > USER_SESSION_TTL:\n",
    "                # Add new session bucket\n",
    "                session_buckets.append([doc])\n",
    "            else:\n",
    "                # Add doc to the last session bucket\n",
    "                session_buckets[-1].append(doc)\n",
    "\n",
    "            prev_timestamp = doc['Timestamp']\n",
    "            \n",
    "\n",
    "for i in range(len(times) - 1):\n",
    "    start, end = times[i], times[i+1]\n",
    "    # Indentify what sessions are inside the interval of the iteration\n",
    "    for session in session_buckets:\n",
    "        session_start = session[0]['Timestamp']        \n",
    "        if len(session) > 1:\n",
    "            session_end = session[-1]['Timestamp']\n",
    "            if (session_start > start and session_start <= end) or (session_end > start and session_end <= end) or (session_start < start and session_end > end):\n",
    "                intervals_session_count_list[i] += 1\n",
    "        else:\n",
    "            if session_start >= start and session_start <= end:\n",
    "                intervals_session_count_list[i] += 1"
   ]
  },
  {
   "cell_type": "markdown",
   "metadata": {},
   "source": [
    "Now with the information generated we can find the peak"
   ]
  },
  {
   "cell_type": "code",
   "execution_count": 6,
   "metadata": {},
   "outputs": [
    {
     "data": {
      "text/plain": [
       "{'start': datetime.datetime(2017, 4, 10, 11, 19),\n",
       " 'end': datetime.datetime(2017, 4, 10, 11, 20)}"
      ]
     },
     "execution_count": 6,
     "metadata": {},
     "output_type": "execute_result"
    }
   ],
   "source": [
    "max_sessions = max(intervals_session_count_list)\n",
    "peak_interval = time_intervals[intervals_session_count_list.index(max_sessions)]\n",
    "peak_interval"
   ]
  },
  {
   "cell_type": "code",
   "execution_count": 16,
   "metadata": {},
   "outputs": [
    {
     "name": "stdout",
     "output_type": "stream",
     "text": [
      "Number of sessions in the peak:  81\n"
     ]
    }
   ],
   "source": [
    "print('Number of sessions in the peak: ', max_sessions)"
   ]
  },
  {
   "cell_type": "markdown",
   "metadata": {},
   "source": [
    "##### The maximum number of concurrent sessions was in the interval of 11:19 am - 11:20 am, with a total of 81  sessions"
   ]
  },
  {
   "cell_type": "code",
   "execution_count": 8,
   "metadata": {},
   "outputs": [],
   "source": [
    "time_intervals_str = []\n",
    "for interval in time_intervals:\n",
    "    time_intervals_str.append(str(interval['start'])[11:] +' - '+ str(interval['end'])[11:])"
   ]
  },
  {
   "cell_type": "code",
   "execution_count": 9,
   "metadata": {},
   "outputs": [
    {
     "data": {
      "image/png": "[encoded data removed]",
      "text/plain": [
       "<Figure size 432x288 with 1 Axes>"
      ]
     },
     "metadata": {
      "needs_background": "light"
     },
     "output_type": "display_data"
    }
   ],
   "source": [
    "plt.xlabel('Time Interval')\n",
    "x = [i for i in range(len(time_intervals_str))]\n",
    "plt.xticks(np.arange(min(x), max(x)+1, 20.0), rotation='vertical')\n",
    "plt.ylabel('Num. of Active Sessions')\n",
    "plt.plot(time_intervals_str, intervals_session_count_list, '-o')\n",
    "plt.show()"
   ]
  },
  {
   "cell_type": "markdown",
   "metadata": {},
   "source": [
    "- Here we visualize the active sessions throughout the day. We can crop the data and keep a time interval close to the peak, in order to have an easier way to analyze the peak.\n",
    "- From this plot we can conclude that users have a trend of work in the platform during the morning and close to the launch break (where we see the peak). We can identify launch break with the local minimum between 12:00 and 14:00\n",
    "- Also the increment on users in the platform during the afternoon is slower, this is expected."
   ]
  },
  {
   "cell_type": "markdown",
   "metadata": {},
   "source": [
    "### Crop data to analyze increment in sessions during the morning"
   ]
  },
  {
   "cell_type": "code",
   "execution_count": 11,
   "metadata": {},
   "outputs": [
    {
     "data": {
      "image/png": "[encoded data removed]",
      "text/plain": [
       "<Figure size 432x288 with 1 Axes>"
      ]
     },
     "metadata": {
      "needs_background": "light"
     },
     "output_type": "display_data"
    }
   ],
   "source": [
    "# Generating plot from start to the peak\n",
    "\n",
    "limit = intervals_session_count_list.index(max(intervals_session_count_list))  # index of the peak\n",
    "\n",
    "trimmed_x = time_intervals_str[:limit + 1]\n",
    "trimmed_y = intervals_session_count_list[:limit + 1]\n",
    "\n",
    "plt.xlabel('Time Interval')\n",
    "x = [i for i in range(len(trimmed_x))]\n",
    "plt.xticks(np.arange(min(x), max(x)+1, 10.0), rotation='vertical')\n",
    "\n",
    "plt.ylabel('Num. of Active Sessions')\n",
    "plt.plot(trimmed_x, trimmed_y, '-o')\n",
    "plt.show()"
   ]
  },
  {
   "cell_type": "markdown",
   "metadata": {},
   "source": [
    "- Now with the crop data we can focus in how the number of users is incrementing during the day until reaching the peak of load in the platform.\n",
    "- An important question to answer is \"how fast users are connecting to the platform? How many hours or minutes took to reach the peak number of concurrent sessions?\". For that we are interested in the rate of change of the graph\n",
    "- Note that the graph is steepest close to 8:50, also at 11:00"
   ]
  },
  {
   "cell_type": "markdown",
   "metadata": {},
   "source": [
    "### Calculate an estimate for the rate of users connecting to the system"
   ]
  },
  {
   "cell_type": "code",
   "execution_count": 23,
   "metadata": {},
   "outputs": [],
   "source": [
    "def rate_of_change(start_index, end_index):\n",
    "    sessions_up_to_peak = intervals_session_count_list[start_index:end_index+1]\n",
    "    deltas = []\n",
    "\n",
    "    for i in range(len(sessions_up_to_peak) - 1):\n",
    "        x1, x2 = sessions_up_to_peak[i], sessions_up_to_peak[i+1]\n",
    "        delta = x2-x1\n",
    "        deltas.append(delta)\n",
    "\n",
    "    return sum(deltas)/len(deltas)"
   ]
  },
  {
   "cell_type": "code",
   "execution_count": 24,
   "metadata": {},
   "outputs": [
    {
     "data": {
      "text/plain": [
       "0.305019305019305"
      ]
     },
     "execution_count": 24,
     "metadata": {},
     "output_type": "execute_result"
    }
   ],
   "source": [
    "start_index = 0\n",
    "peak_index = intervals_session_count_list.index(max_sessions)\n",
    "rate_of_change(start_index, peak_index)"
   ]
  },
  {
   "cell_type": "markdown",
   "metadata": {},
   "source": [
    "- The estimation resulted of: 0.31 sessions/min\n",
    "- A very slow rate, with this number we can expect users connecting with a rate of: ~ 1 session every 3.3 minutes"
   ]
  },
  {
   "cell_type": "markdown",
   "metadata": {},
   "source": [
    "### Analyzing rate of change in the interval where the graph is steeper"
   ]
  },
  {
   "cell_type": "markdown",
   "metadata": {},
   "source": [
    "- The graph is steepest in the interval from to 8:40 - 9:20, also at 10:50 - max\n",
    "- Considering only the moments where the graph is steepest we can obtain a better estimation of the rate"
   ]
  },
  {
   "cell_type": "code",
   "execution_count": 30,
   "metadata": {},
   "outputs": [
    {
     "name": "stdout",
     "output_type": "stream",
     "text": [
      "The rate in the interval of 8:40 - 9:20 is of : 0.82 sessions/min\n"
     ]
    }
   ],
   "source": [
    "rate = rate_of_change(time_intervals_str.index('08:40:00 - 08:41:00'), time_intervals_str.index('09:20:00 - 09:21:00'))\n",
    "print(\"The rate in the interval of 8:40 - 9:20 is of : %.2f sessions/min\" % rate)"
   ]
  },
  {
   "cell_type": "code",
   "execution_count": 31,
   "metadata": {},
   "outputs": [
    {
     "name": "stdout",
     "output_type": "stream",
     "text": [
      "The rate in the interval of 10:50 - 11:20 is of : 1.07 sessions/min\n"
     ]
    }
   ],
   "source": [
    "rate = rate_of_change(time_intervals_str.index('10:50:00 - 10:51:00'), time_intervals_str.index('11:20:00 - 11:21:00'))\n",
    "print(\"The rate in the interval of 10:50 - 11:20 is of : %.2f sessions/min\" % rate)"
   ]
  },
  {
   "cell_type": "markdown",
   "metadata": {},
   "source": [
    "##### In conclusion, for the worst case scenario, we can expect users connecting to the system with a rate of ~ 1 session per minute"
   ]
  }
 ],
 "metadata": {
  "kernelspec": {
   "display_name": "Python 3",
   "language": "python",
   "name": "python3"
  },
  "language_info": {
   "codemirror_mode": {
    "name": "ipython",
    "version": 3
   },
   "file_extension": ".py",
   "mimetype": "text/x-python",
   "name": "python",
   "nbconvert_exporter": "python",
   "pygments_lexer": "ipython3",
   "version": "3.6.8"
  }
 },
 "nbformat": 4,
 "nbformat_minor": 4
}
